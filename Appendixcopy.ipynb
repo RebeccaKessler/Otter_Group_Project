{
  "nbformat": 4,
  "nbformat_minor": 0,
  "metadata": {
    "colab": {
      "provenance": [],
      "include_colab_link": true
    },
    "kernelspec": {
      "name": "python3",
      "display_name": "Python 3"
    },
    "language_info": {
      "name": "python"
    }
  },
  "cells": [
    {
      "cell_type": "markdown",
      "metadata": {
        "id": "view-in-github",
        "colab_type": "text"
      },
      "source": [
        "<a href=\"https://colab.research.google.com/github/RebeccaKessler/Otter_Group_Project/blob/main/Appendixcopy.ipynb\" target=\"_parent\"><img src=\"https://colab.research.google.com/assets/colab-badge.svg\" alt=\"Open In Colab\"/></a>"
      ]
    },
    {
      "cell_type": "code",
      "source": [
        "#importing packages\n",
        "import numpy as np\n",
        "import pandas as pd\n",
        "import os\n",
        "import re\n",
        "import plotly.express as px\n",
        "import csv\n",
        "import matplotlib.pyplot as plt\n",
        "import seaborn as sns\n",
        "from scipy import stats\n",
        "import warnings\n",
        "import statsmodels.api as sm\n",
        "warnings.filterwarnings(\"ignore\")\n",
        "!pip install stargazer\n",
        "from stargazer.stargazer import Stargazer\n",
        "!pip install linearmodels\n",
        "from linearmodels.panel import PanelOLS\n",
        "from sklearn.linear_model import LinearRegression"
      ],
      "metadata": {
        "id": "IJzxvWyY4mR-",
        "colab": {
          "base_uri": "https://localhost:8080/"
        },
        "outputId": "7ab6cc49-1801-45b8-fa6f-1fb2316060b3"
      },
      "execution_count": 1,
      "outputs": [
        {
          "output_type": "stream",
          "name": "stdout",
          "text": [
            "Collecting stargazer\n",
            "  Downloading stargazer-0.0.6-py3-none-any.whl (11 kB)\n",
            "Installing collected packages: stargazer\n",
            "Successfully installed stargazer-0.0.6\n",
            "Collecting linearmodels\n",
            "  Downloading linearmodels-5.3-cp310-cp310-manylinux_2_17_x86_64.manylinux2014_x86_64.whl (1.8 MB)\n",
            "\u001b[2K     \u001b[90m━━━━━━━━━━━━━━━━━━━━━━━━━━━━━━━━━━━━━━━━\u001b[0m \u001b[32m1.8/1.8 MB\u001b[0m \u001b[31m9.6 MB/s\u001b[0m eta \u001b[36m0:00:00\u001b[0m\n",
            "\u001b[?25hRequirement already satisfied: numpy>=1.19.0 in /usr/local/lib/python3.10/dist-packages (from linearmodels) (1.23.5)\n",
            "Requirement already satisfied: pandas>=1.1.0 in /usr/local/lib/python3.10/dist-packages (from linearmodels) (1.5.3)\n",
            "Requirement already satisfied: scipy>=1.5.0 in /usr/local/lib/python3.10/dist-packages (from linearmodels) (1.11.4)\n",
            "Requirement already satisfied: statsmodels>=0.12.0 in /usr/local/lib/python3.10/dist-packages (from linearmodels) (0.14.1)\n",
            "Collecting mypy-extensions>=0.4 (from linearmodels)\n",
            "  Downloading mypy_extensions-1.0.0-py3-none-any.whl (4.7 kB)\n",
            "Requirement already satisfied: Cython>=0.29.34 in /usr/local/lib/python3.10/dist-packages (from linearmodels) (3.0.6)\n",
            "Collecting pyhdfe>=0.1 (from linearmodels)\n",
            "  Downloading pyhdfe-0.2.0-py3-none-any.whl (19 kB)\n",
            "Collecting formulaic>=0.6.5 (from linearmodels)\n",
            "  Downloading formulaic-0.6.6-py3-none-any.whl (91 kB)\n",
            "\u001b[2K     \u001b[90m━━━━━━━━━━━━━━━━━━━━━━━━━━━━━━━━━━━━━━━━\u001b[0m \u001b[32m91.0/91.0 kB\u001b[0m \u001b[31m10.1 MB/s\u001b[0m eta \u001b[36m0:00:00\u001b[0m\n",
            "\u001b[?25hCollecting setuptools-scm[toml]<8.0.0,>=7.0.0 (from linearmodels)\n",
            "  Downloading setuptools_scm-7.1.0-py3-none-any.whl (43 kB)\n",
            "\u001b[2K     \u001b[90m━━━━━━━━━━━━━━━━━━━━━━━━━━━━━━━━━━━━━━━━\u001b[0m \u001b[32m43.8/43.8 kB\u001b[0m \u001b[31m4.9 MB/s\u001b[0m eta \u001b[36m0:00:00\u001b[0m\n",
            "\u001b[?25hCollecting astor>=0.8 (from formulaic>=0.6.5->linearmodels)\n",
            "  Downloading astor-0.8.1-py2.py3-none-any.whl (27 kB)\n",
            "Collecting interface-meta>=1.2.0 (from formulaic>=0.6.5->linearmodels)\n",
            "  Downloading interface_meta-1.3.0-py3-none-any.whl (14 kB)\n",
            "Requirement already satisfied: typing-extensions>=4.2.0 in /usr/local/lib/python3.10/dist-packages (from formulaic>=0.6.5->linearmodels) (4.5.0)\n",
            "Requirement already satisfied: wrapt>=1.0 in /usr/local/lib/python3.10/dist-packages (from formulaic>=0.6.5->linearmodels) (1.14.1)\n",
            "Requirement already satisfied: python-dateutil>=2.8.1 in /usr/local/lib/python3.10/dist-packages (from pandas>=1.1.0->linearmodels) (2.8.2)\n",
            "Requirement already satisfied: pytz>=2020.1 in /usr/local/lib/python3.10/dist-packages (from pandas>=1.1.0->linearmodels) (2023.3.post1)\n",
            "Requirement already satisfied: packaging>=20.0 in /usr/local/lib/python3.10/dist-packages (from setuptools-scm[toml]<8.0.0,>=7.0.0->linearmodels) (23.2)\n",
            "Requirement already satisfied: setuptools in /usr/local/lib/python3.10/dist-packages (from setuptools-scm[toml]<8.0.0,>=7.0.0->linearmodels) (67.7.2)\n",
            "Requirement already satisfied: tomli>=1.0.0 in /usr/local/lib/python3.10/dist-packages (from setuptools-scm[toml]<8.0.0,>=7.0.0->linearmodels) (2.0.1)\n",
            "Requirement already satisfied: patsy>=0.5.4 in /usr/local/lib/python3.10/dist-packages (from statsmodels>=0.12.0->linearmodels) (0.5.4)\n",
            "Requirement already satisfied: six in /usr/local/lib/python3.10/dist-packages (from patsy>=0.5.4->statsmodels>=0.12.0->linearmodels) (1.16.0)\n",
            "Installing collected packages: setuptools-scm, mypy-extensions, interface-meta, astor, pyhdfe, formulaic, linearmodels\n",
            "Successfully installed astor-0.8.1 formulaic-0.6.6 interface-meta-1.3.0 linearmodels-5.3 mypy-extensions-1.0.0 pyhdfe-0.2.0 setuptools-scm-7.1.0\n"
          ]
        }
      ]
    },
    {
      "cell_type": "markdown",
      "source": [
        "# Appendix 1: Data Cleaning"
      ],
      "metadata": {
        "id": "rAO1qNgSD6oU"
      }
    },
    {
      "cell_type": "markdown",
      "source": [
        "**Data Collection: Dependent and Independent Variable**\n",
        "\n",
        "We obtained our datasets of potato yields and surface temperature changes from FAOSTAT. The potato dataset contains yearly values from 1961 until 2022, whereas the temperature datasets contains both yearly and monthly values for the same period.\n",
        "The potato dataset contains value on potato yields in tons per country as well as hectares of agricultural land harvested on which's basis we calculated a new variable \"potato yields per hectares (t/ha).\n",
        "The changes in surface temperature refer to the change in temperature compared to the average temperature during the baseline period 1951-1980. <br><br>\n",
        "\n",
        "\n",
        "**Data Cleaning**\n",
        "\n",
        "In a first step we looked at missing values. Both datasets had missing values. These were mostly small island states or countries that have ceased to exist or broke up and regrouped.\n",
        "We approached the missing values as follows:\n",
        "- missing values in countries not contributing significantly to global potato yields -> exclusion from our sample\n",
        "- missing values in countries contributing signficiantly to global potato yields (former USSR, Yugoslavio, Ethiopia, Beligum-Luxembourg, Czechoslovakia) -> regrouping of the countries that make up the state that ceased to exist. <br><br>\n",
        "\n",
        "The regrouping was done as follows:\n",
        "- potato yields: we added up the tons as well as the hectares of the harvested land of each country and then divided the total tons by the total hectare of the regrouped state (e.g. add up the tons and hectares of all the states of former USSR and then divide the total ton by the total hectare to \"recreate\" USSR)\n",
        "- change in surface temperature: we calculated the weighted sum uf the temperature change based on the surface area of the respective countries. This approach is based on the methodology employed by FAOSTAT to calculate changes in surface temperature at the country level.\n",
        "\n",
        "Lastly, we had to rename some countries (e.g. Türkiye to Turkey) to ensure that the same country have the same name in both datasets.<br><br>\n",
        "\n",
        "\n",
        "\n",
        "**Calculation of Seasonal Temperature and Potato Yield Growth**\n",
        "\n",
        "To gain a more fine grained understanding of how temperature affects potato yields, we looked at the growing season of potatoes in the northern and southern hemispheres. To build over independent variable, we then took the mean of the temperautres in the repective months for each country rather than the temperature mean over the whole year. For the northern hemisphere this is May - September and for the Southern hemisphere November - March. This will be our independent variable \"temperature\".\n",
        "\n",
        "For our dependent variable, we calculated the yearly growth rate of potato yields per hectares to analyze whether or not increasing temperatures are leading to a decrease in the growth of potato yields per hectare. This was done as follows: <br><br>\n",
        "\n",
        "\n",
        "$$\n",
        "g = \\frac{{Yield_n - \\ Yield_{(n-1)}}}{{Yield_{(n-1)}}}*100\n",
        "$$<br><br>\n",
        "\n",
        "This variable will be our main dependent variable in our regression.<br><br>\n",
        "\n",
        "\n",
        "\n",
        "**Control Variables**\n",
        "\n",
        "Our control variables consist of GDP per capita, fertilizer (g/ha), irrigation (share of total agricultural land), and precipitation (mm/country constant). With the expection of precipitation, we collected all the data via FAOSTAT as well. The monthly precipitation dataset stems from ccpk.\n",
        "To clean our controls, we followed the same approach as with our main variables. Given that all variables are normalized to the country side, we followed the same procedure than temperature, thus calculating the weighted sum of the states that ceased to exist based on either their surface, population, or total agricultural land.<br><br>\n",
        "\n",
        "\n",
        "**Calculation of Precipitation Variation**\n",
        "\n",
        "Similar to our variable \"changes in temperature\", we are mostly interested in precipiation during the growing season and not over the whole year. We thus again calculated the average precipitation of each country during their potato growing season.\n",
        "\n",
        "In addition, we calculated precipitation variation. For this, we took the mean precipitation over the years 1970-2020 for each country and then calculated the difference between each year's value and this mean. Precipiation is a more powerful indicator of how precipiation patterns are changing as there are no clear increasing or decreasing trends in many countries but rather more extreme seasonal variations. Anomalies thus allow us to differentiate between seasons that get less vs more rain than the average. This variable 'precipiation variation' will later become our variable of heterogeneity.<br><br>\n",
        "\n",
        "\n",
        "**Final Sample**\n",
        "\n",
        "Our final sample size is equal to 97, meaning our sample consists of 97 countries. Irrigation unfortunately drastically reduces this sample size to 66 as the data is not available in some areas of the world. We hence run our baseline model once with and once without irrigation. The main model used for our interpretion, however, will be the one without irrigation.\n",
        "\n",
        "\n",
        "\n"
      ],
      "metadata": {
        "id": "DHioQqbIEspZ"
      }
    },
    {
      "cell_type": "markdown",
      "source": [
        "# Appendix 2: Seasonal Analysis\n"
      ],
      "metadata": {
        "id": "FtH5Q6Bg3-u4"
      }
    },
    {
      "cell_type": "code",
      "source": [
        "#importing our datasets\n",
        "url = \"https://raw.githubusercontent.com/RebeccaKessler/Otter_Group_Project/main/Data%20for%20Final%20Project/cross_section_data.csv?token=GHSAT0AAAAAACL4W2FUCWMXAE63TXCYPNNGZMFSSRA\"\n",
        "df_cross = pd.read_csv(url)\n",
        "url = \"https://raw.githubusercontent.com/RebeccaKessler/Otter_Group_Project/main/Data%20for%20Final%20Project/Panel_Analysis_absolute.csv?token=GHSAT0AAAAAACL4W2FVFZNNHC5XUUIIOVREZMFSS7A\"\n",
        "df_panel_absolute = pd.read_csv(url)\n",
        "url = \"https://raw.githubusercontent.com/RebeccaKessler/Otter_Group_Project/main/Data%20for%20Final%20Project/Panel_Analysis_growth.csv?token=GHSAT0AAAAAACL4W2FUS46AN5EQKAK5YQUYZMFSTOA\"\n",
        "df_panel_growth = pd.read_csv(url)\n",
        "url = \"https://raw.githubusercontent.com/RebeccaKessler/Otter_Group_Project/main/Data%20for%20Final%20Project/Panel_Analysis_growth_irrigation.csv?token=GHSAT0AAAAAACL4W2FVSP7ELWWBXGBCKL5IZMFST4A\"\n",
        "df_panel_growth_irrigation = pd.read_csv(url)"
      ],
      "metadata": {
        "id": "IEcTPEHePDTS"
      },
      "execution_count": 6,
      "outputs": []
    },
    {
      "cell_type": "code",
      "source": [
        "# Definition of continents\n",
        "Africa = [\"Algeria\",'Angola','Cameroon','Central African Republic','Chad','Democratic Republic of the Congo','Egypt','Eswatini','Ethiopia PDR', 'Kenya','Lesotho','Libya','Madagascar',\"Malawi\",\"Mauritania\",  'Mauritius',  'Morocco',  'Mozambique',  'Nigeria',  'Senegal', 'South Africa',  'Tunisia', 'Uganda',  'United Republic of Tanzania',  'Zambia','Zimbabwe']\n",
        "NA = ['Canada','Cuba','Dominica','Dominican Republic','El Salvador','Guatemala','Haiti','Honduras', \"Mexico\",  'Nicaragua',  'United States of America']\n",
        "SA = ['Argentina','Bolivia (Plurinational State of)','Brazil','Chile','Colombia','Ecuador', \"Paraguay\",  'Peru', 'Uruguay', 'Venezuela (Bolivarian Republic of)']\n",
        "Asia = [\"Afghanistan\",'Bangladesh','Bhutan','Cyprus',\"China\",\"Democratic People's Republic of Korea\",'India','Indonesia','Iran (Islamic Republic of)','Iraq','Israel', 'Japan','Jordan',\"Lao People's Democratic Republic\", 'Lebanon',  'Mongolia',  'Myanmar',  'Nepal',  'Pakistan',  'Philippines',  'Republic of Korea', 'Saudi Arabia',  'Sri Lanka',  'Syrian Arab Republic',  'Thailand',  'Türkiye',  'Viet Nam']\n",
        "Europe = [\"USSR\",'Albania','Austria','Belgium-Luxembourg','Bulgaria','Czechoslovakia','Denmark','Faroe Islands','Finland','France','Germany','Greece','Hungary','Iceland','Ireland','Italy', \"Malta\",  'Netherlands (Kingdom of the)',  'Norway',  'Poland', 'Portugal',  'Romania',  'Spain', 'Sweden',  'Switzerland',  'United Kingdom of Great Britain and Northern Ireland',  'Yugoslav SFR']\n",
        "Oceania = ['Australia','Fiji','French Polynesia', \"New Caledonia\", 'New Zealand', 'Papua New Guinea']"
      ],
      "metadata": {
        "id": "u9noCFAyRKYt"
      },
      "execution_count": null,
      "outputs": []
    },
    {
      "cell_type": "code",
      "source": [
        "# defining outliers\n",
        "outliers = ['Guatemala', 'Cameroon', \"Jordan\", \"Democratic People's Republic of Korea\", 'Nigeria', 'Zimbabwe']\n",
        "# Guetemala and Cameroon started their potato production much later than the other countries. This leads to a sudden and extreme growth in their potato yields per hectare.\n",
        "# The Democratic People's Republic of Korea, Nigeria, Jordan, and Zimbabwe show sudden and large drops in their potato yields per hectare due to political conflicts or constrained socio-economic conditions.\n",
        "# These extreme outliers will be excluded from our analysis.\n",
        "# However, we reintroduce them in our robustness checks (see Appendix 2.5.2)."
      ],
      "metadata": {
        "id": "2nkNMdNMTDjE"
      },
      "execution_count": null,
      "outputs": []
    },
    {
      "cell_type": "markdown",
      "source": [
        "## 2.1 Panel Analysis Absolute Values"
      ],
      "metadata": {
        "id": "5IGqKz1l5nV1"
      }
    },
    {
      "cell_type": "code",
      "source": [
        "# Linear regression of absolute potato yields (no controls)\n",
        "df_panel_absolute_no_outliers = df_panel_absolute[~df_panel_absolute['Area'].isin(outliers)]\n",
        "\n",
        "sns.scatterplot(x='Value_T', y='Value_Y', hue='Year', data=df_panel_absolute)\n",
        "\n",
        "x = df_panel_absolute_no_outliers.sort_values(\"Value_T\").Value_T\n",
        "y = df_panel_absolute_no_outliers.sort_values(\"Value_T\").Value_Y\n",
        "\n",
        "ols_canned_results = sm.OLS.from_formula('Value_Y ~ Value_T', df_panel_absolute_no_outliers).fit()\n",
        "slope = ols_canned_results.params[1]\n",
        "intercept = ols_canned_results.params[0]\n",
        "\n",
        "trendline = slope * x + intercept\n",
        "\n",
        "line = f'Regression line: y={slope:.2f}x+{intercept:.2f} \\np={ols_canned_results.pvalues[1]:.3f}, r² = {ols_canned_results.rsquared:.1f}'\n",
        "\n",
        "plt.plot(x, trendline, '--', color='k', label=line)\n",
        "\n",
        "plt.xlabel('Change in Surface Temperature [°C]')\n",
        "plt.ylabel('Potato Yield [t/ha]')\n",
        "plt.title('Change in Surface Temperature and Potato Yields')\n",
        "plt.legend(loc='center left', bbox_to_anchor=(1, 0.5))\n",
        "plt.show()"
      ],
      "metadata": {
        "id": "5VfqwMvlwjW7"
      },
      "execution_count": null,
      "outputs": []
    },
    {
      "cell_type": "markdown",
      "source": [
        "The coefficient of 4.46 tells us that an increase of 1°C leads to a 4.46 increase in absolute potatoes (t/H). This result is statistically significant (p<0.05). This regression,however, does not inlcude any control variable nor fixed effects."
      ],
      "metadata": {
        "id": "ISZaUryxWYXU"
      }
    },
    {
      "cell_type": "markdown",
      "source": [
        "## 2.2 Panel Analysis Yield Growth\n",
        "\n"
      ],
      "metadata": {
        "id": "guyeR7GB6B0c"
      }
    },
    {
      "cell_type": "markdown",
      "source": [
        "### 2.2.1 Linear Regression"
      ],
      "metadata": {
        "id": "D0XgL1A56Ukb"
      }
    },
    {
      "cell_type": "code",
      "source": [
        "# Linear regression without outliers (no controls)\n",
        "df_panel_growth_no_outliers = df_panel_growth[~df_panel_growth['Area'].isin(outliers)]\n",
        "\n",
        "sns.scatterplot(x='Value_T', y='Value_Y', hue='Year', data=df_panel_growth_no_outliers)\n",
        "\n",
        "x = df_panel_growth.sort_values(\"Value_T\").Value_T\n",
        "y = df_panel_growth.sort_values(\"Value_T\").Value_Y\n",
        "\n",
        "ols_canned_results = sm.OLS.from_formula('Value_Y ~ Value_T', df_panel_growth_no_outliers).fit()\n",
        "slope = ols_canned_results.params[1]\n",
        "intercept = ols_canned_results.params[0]\n",
        "\n",
        "trendline = slope * x + intercept\n",
        "\n",
        "line = f'Regression line: y={slope:.2f}x+{intercept:.2f} \\np={ols_canned_results.pvalues[1]:.2f}, r² = {ols_canned_results.rsquared:.3f}'\n",
        "\n",
        "plt.plot(x, trendline, '--', color='k', label=line)\n",
        "\n",
        "plt.xlabel('Change in Surface Temperature [°C]')\n",
        "plt.ylabel('Yield Rates [in %]')\n",
        "plt.title('Change in Surface Temperature and Yield Rates')\n",
        "plt.legend(loc='center left', bbox_to_anchor=(1, 0.5))\n",
        "plt.show()"
      ],
      "metadata": {
        "id": "C9MdG5hBxZfA"
      },
      "execution_count": null,
      "outputs": []
    },
    {
      "cell_type": "code",
      "source": [
        "#display regression table\n",
        "res_1 = sm.OLS.from_formula('Value_Y ~ Value_T', df_panel_growth_no_outliers).fit()\n",
        "\n",
        "stargazer = Stargazer([res_1])\n",
        "stargazer"
      ],
      "metadata": {
        "id": "Auw0j3AQzY02"
      },
      "execution_count": null,
      "outputs": []
    },
    {
      "cell_type": "markdown",
      "source": [
        "Plotting the growth rate against temperature, we find that a 1°C increase leads to a 1.389 decrease in the annual potato yield rate. This result is statistically significant (p<0.01). However, it does not include any controls nor fixed effects yet."
      ],
      "metadata": {
        "id": "Dw-Q_NPJW63e"
      }
    },
    {
      "cell_type": "markdown",
      "source": [
        "### 2.2.2 Control Variables"
      ],
      "metadata": {
        "id": "EngwbZ5J6G-x"
      }
    },
    {
      "cell_type": "code",
      "source": [
        "# Linear regression without outliers with controls\n",
        "\n",
        "sns.scatterplot(x='Value_T', y='Value_Y', hue='Year', data=df_panel_growth_no_outliers)\n",
        "\n",
        "x = df_panel_growth.sort_values(\"Value_T\").Value_T\n",
        "y = df_panel_growth.sort_values(\"Value_T\").Value_Y\n",
        "\n",
        "ols_canned_results = sm.OLS.from_formula('Value_Y ~ Value_T + Value_GDP + Value_Fert + Value_Prec_Anom', df_panel_growth_no_outliers).fit()\n",
        "slope = ols_canned_results.params[1]\n",
        "intercept = ols_canned_results.params[0]\n",
        "\n",
        "trendline = slope * x + intercept\n",
        "\n",
        "line = f'Regression line: y={slope:.2f}x+{intercept:.2f} \\np={ols_canned_results.pvalues[1]:.2f}, r² = {ols_canned_results.rsquared:.3f}'\n",
        "\n",
        "plt.plot(x, trendline, '--', color='k', label=line)\n",
        "\n",
        "plt.xlabel('Change in Surface Temperature [°C]')\n",
        "plt.ylabel('Yield Rates[in %]')\n",
        "plt.title('Change in Surface Temperature and Yield Rates')\n",
        "plt.legend(loc='center left', bbox_to_anchor=(1, 0.5))\n",
        "plt.show()"
      ],
      "metadata": {
        "id": "YTq870lc0cVS"
      },
      "execution_count": null,
      "outputs": []
    },
    {
      "cell_type": "code",
      "source": [
        "df_panel_growth_irrigation_no_outliers = df_panel_growth_irrigation[~df_panel_growth_irrigation['Area'].isin(outliers)]"
      ],
      "metadata": {
        "id": "pBDpe0ZR7Amk"
      },
      "execution_count": null,
      "outputs": []
    },
    {
      "cell_type": "code",
      "source": [
        "#display regression tables\n",
        "res_1 = sm.OLS.from_formula('Value_Y ~ Value_T', df_panel_growth_no_outliers).fit()\n",
        "res_2 = sm.OLS.from_formula('Value_Y ~ Value_T + Value_GDP', df_panel_growth_no_outliers).fit()\n",
        "res_3 = sm.OLS.from_formula('Value_Y ~ Value_T + Value_GDP + Value_Fert', df_panel_growth_no_outliers).fit()\n",
        "res_4 = sm.OLS.from_formula('Value_Y ~ Value_T + Value_GDP + Value_Fert + Value_Prec_Anom', df_panel_growth_no_outliers).fit()\n",
        "res_5 = sm.OLS.from_formula('Value_Y ~ Value_T + Value_GDP + Value_Fert + Value_Prec_Anom + Value_Irig', df_panel_growth_irrigation_no_outliers).fit()\n",
        "\n",
        "stargazer = Stargazer([res_1, res_2, res_3, res_4, res_5])\n",
        "stargazer"
      ],
      "metadata": {
        "id": "ZFTLBvBD09Ic"
      },
      "execution_count": null,
      "outputs": []
    },
    {
      "cell_type": "markdown",
      "source": [
        "Let's interpret the results (4) when including all controls (except for irrigation which is in column 5)\n",
        "The result suggests a coefficient of -1.326. This is only a minimal changes compared to the coefficient without controls. The controls do thus not strongly influende our coefficient.\n",
        "The -0.002 for fertilizer, for example, suggests that a one-unit increase in fertilizer is associated with a decrease of 0.002 units in yield growth which is counter to our intuition. However, the coefficient of fertilizer is not statistically signifciant. We can thus not conclude that the effect of fertilizer on yield rates is not zero.\n",
        "Looking at the table, only temperature and precipitaton appear statistically significant (p<0.05).\n",
        "Note, this regresson table does still not include any fixed effects."
      ],
      "metadata": {
        "id": "Wtz0B0UkXZ6s"
      }
    },
    {
      "cell_type": "markdown",
      "source": [
        "### 2.2.3 Fixed Effects"
      ],
      "metadata": {
        "id": "8ut4rKcQ6acJ"
      }
    },
    {
      "cell_type": "code",
      "source": [
        "#display regression tables including controls and country-specifc fixed effects\n",
        "result_fe = PanelOLS.from_formula(\"Value_Y ~ 1 + Value_T + Value_GDP + Value_Fert + Value_Prec_Anom + EntityEffects\",\n",
        "                            data=df_panel_growth_no_outliers.set_index([\"Area\", \"Year\"]))\n",
        "result_fe = result_fe.fit(cov_type='clustered', cluster_entity=True)\n",
        "print(result_fe)"
      ],
      "metadata": {
        "id": "g6dKHqrP1LYE"
      },
      "execution_count": null,
      "outputs": []
    },
    {
      "cell_type": "markdown",
      "source": [
        "Introducing our fixed effects and accounting for clustered standard errors changes the picture slightly.\n",
        "\n",
        "A one-unit increase in temperature is now associated with a decrease of approximatel 1.6157 units in the yield rate. This is slightly more negative than before. The coefficient thereby remains statistically significant (p<0.05).\n",
        "Interestingly, the coefficient of our control variable fertilizer becomes positive and statistically signifciant at the 0.05%-level. It is thus now in line with our intuition that a one-unit increase in fertilizer use leads to a 0.0062 increase in yield rates.\n",
        "The coefficient of GDP remains neglectable and statistically insignificant.\n",
        "\n",
        "The F-test for poolability further suggests that there is no evidence of significant fixed effects in our model. Including or excluding fixed effects does thus not signifciantly change our baseline result.\n",
        "\n",
        "However, including fixed effects and clustered standard errors, slightly improves the fit of our model as reflected in an increase in the R_squared from 0.004 to 0.005."
      ],
      "metadata": {
        "id": "PcBkOrodb2Iw"
      }
    },
    {
      "cell_type": "markdown",
      "source": [
        "### 2.2.4 Discontinuity Regression"
      ],
      "metadata": {
        "id": "XbutyV4F7GwD"
      }
    },
    {
      "cell_type": "code",
      "source": [
        "#create temperature threshold for discontinuity analysis\n",
        "#assigning value 1 to countries above the trehsold and 0 to the ones below\n",
        "threshold = 2\n",
        "df_panel_growth_no_outliers['dummy_temp'] = df_panel_growth_no_outliers['Value_T'] >= threshold\n",
        "df_panel_growth_no_outliers[\"dummy_temp\"] = df_panel_growth_no_outliers[\"dummy_temp\"].astype(int)"
      ],
      "metadata": {
        "id": "UYzTHfv4x25F"
      },
      "execution_count": null,
      "outputs": []
    },
    {
      "cell_type": "code",
      "source": [
        "#display scatter\n",
        "sns.scatterplot(x='Value_T', y='Value_Y', data=df_panel_growth_no_outliers, hue=\"dummy_temp\")"
      ],
      "metadata": {
        "id": "MMlAqzd_x5VK"
      },
      "execution_count": null,
      "outputs": []
    },
    {
      "cell_type": "code",
      "source": [
        "#dispaly simple regression\n",
        "sns.lmplot(x='Value_T', y='Value_Y', data=df_panel_growth_no_outliers, hue=\"dummy_temp\", height=3.5, aspect=1.7, ci=False)"
      ],
      "metadata": {
        "id": "uLK7HDf2x8xH"
      },
      "execution_count": null,
      "outputs": []
    },
    {
      "cell_type": "code",
      "source": [
        "#run regression with threshold\n",
        "temperature = df_panel_growth_no_outliers['Value_T']\n",
        "potato_yield = df_panel_growth_no_outliers['Value_Y']\n",
        "\n",
        "# Create a dummy variable (1 if above threshold, 0 if below threshold)\n",
        "df_panel_growth_no_outliers['above_threshold'] = (temperature > threshold).astype(int)\n",
        "\n",
        "# Split the data into two subsets based on the dummy variable\n",
        "df_below_threshold = df_panel_growth_no_outliers[df_panel_growth_no_outliers['above_threshold'] == 0]\n",
        "df_above_threshold = df_panel_growth_no_outliers[df_panel_growth_no_outliers['above_threshold'] == 1]\n",
        "\n",
        "# Fit linear regression models for each subset\n",
        "model_below_threshold = LinearRegression().fit(df_below_threshold['Value_T'].values.reshape(-1, 1), df_below_threshold['Value_Y'])\n",
        "model_above_threshold = LinearRegression().fit(df_above_threshold['Value_T'].values.reshape(-1, 1), df_above_threshold['Value_Y'])\n",
        "\n",
        "# Predict the yields using the fitted models\n",
        "predictions_below_threshold = model_below_threshold.predict(df_below_threshold['Value_T'].values.reshape(-1, 1))\n",
        "predictions_above_threshold = model_above_threshold.predict(df_above_threshold['Value_T'].values.reshape(-1, 1))\n",
        "\n",
        "# Plot the data and regression lines\n",
        "plt.scatter(df_below_threshold['Value_T'], df_below_threshold['Value_Y'], color='blue', label='Below Threshold')\n",
        "plt.scatter(df_above_threshold['Value_T'], df_above_threshold['Value_Y'], color='red', label='Above Threshold')\n",
        "\n",
        "plt.plot(df_below_threshold['Value_T'], predictions_below_threshold, color='blue', label='Regression Line (Below Threshold)')\n",
        "plt.plot(df_above_threshold['Value_T'], predictions_above_threshold, color='red', label='Regression Line (Above Threshold)')\n",
        "\n",
        "plt.axvline(x=threshold, color='black', linestyle='--', label='Treshold Temperature (2.0 C°)')\n",
        "\n",
        "plt.title('Threshold Analysis of Global Surface Temperature and Yield Rates')\n",
        "plt.xlabel('Chance in Surface Temperature (C°)')\n",
        "plt.ylabel('Yield Rate (in %)')\n",
        "plt.legend()\n",
        "plt.show()"
      ],
      "metadata": {
        "id": "fKZ5guTryATQ"
      },
      "execution_count": null,
      "outputs": []
    },
    {
      "cell_type": "markdown",
      "source": [
        "While it might be difficult to read, the regression line after the threshold is a lot steper (more negative) than before the threshold."
      ],
      "metadata": {
        "id": "ChLOSxHUf22_"
      }
    },
    {
      "cell_type": "code",
      "source": [
        "#regression output table for interaction term with temperature threshold\n",
        "res_1 = sm.OLS.from_formula('Value_Y ~ Value_T', df_panel_growth_no_outliers).fit()\n",
        "res_2 = sm.OLS.from_formula('Value_Y ~ Value_T*dummy_temp', df_panel_growth_no_outliers).fit()\n",
        "res_3 = sm.OLS.from_formula('Value_Y ~ Value_T*dummy_temp + Value_GDP + Value_Fert + Value_Prec_Anom', df_panel_growth_no_outliers).fit()\n",
        "\n",
        "\n",
        "stargazer = Stargazer([res_1, res_2, res_3])\n",
        "stargazer"
      ],
      "metadata": {
        "id": "2QoHdRgL2-lI"
      },
      "execution_count": null,
      "outputs": []
    },
    {
      "cell_type": "code",
      "source": [
        "#display regression tables including temperature dummy and fixed effects\n",
        "result_fe = PanelOLS.from_formula(\"Value_Y ~ 1 + Value_T + dummy_temp + Value_T*dummy_temp + Value_GDP + Value_Fert + Value_Prec_Anom + EntityEffects\",\n",
        "                            data=df_panel_growth_no_outliers.set_index([\"Area\", \"Year\"]))\n",
        "result_fe = result_fe.fit(cov_type='clustered', cluster_entity=True)\n",
        "print(result_fe)"
      ],
      "metadata": {
        "id": "lgqJaIEp1zFT"
      },
      "execution_count": null,
      "outputs": []
    },
    {
      "cell_type": "markdown",
      "source": [
        "The result confirms our expectations. As we move from observations below the threshold to observations above the threshold, the effect of temperature on yield rates is on overage -9.5 units lower. The p-value of 0.002 tells us that this result is statistically signifciant at the 1-% level."
      ],
      "metadata": {
        "id": "TXVPT5n6hFe7"
      }
    },
    {
      "cell_type": "markdown",
      "source": [
        "## 2.3 Heterogeneity"
      ],
      "metadata": {
        "id": "B8TqP-xS6o4E"
      }
    },
    {
      "cell_type": "code",
      "source": [
        "#creating a dummy variable \"dummy_rain\" assigning 1 to all years with a positive precipitation anomalies (meaning more than their average), and 0 for all years with negative anomalies\n",
        "threshold = 0\n",
        "df_panel_growth_no_outliers['dummy_rain'] = df_panel_growth_no_outliers['Value_Prec_Anom'] >= threshold\n",
        "df_panel_growth_no_outliers[\"dummy_rain\"] = df_panel_growth_no_outliers[\"dummy_rain\"].astype(int)"
      ],
      "metadata": {
        "id": "vJCuQVOs2E7Y"
      },
      "execution_count": null,
      "outputs": []
    },
    {
      "cell_type": "code",
      "source": [
        "#display the scatter plot with regression line\n",
        "sns.lmplot(x='Value_T', y='Value_Y', data=df_panel_growth_no_outliers, hue=\"dummy_rain\", height=3.5, aspect=1.7, ci=False)"
      ],
      "metadata": {
        "id": "YbbLUm282XDO"
      },
      "execution_count": null,
      "outputs": []
    },
    {
      "cell_type": "markdown",
      "source": [
        "The slope for observations with positive anomalies is steeper than the one with negative anomalies, thus confirming our expectation."
      ],
      "metadata": {
        "id": "zXiuWAkWh3z5"
      }
    },
    {
      "cell_type": "code",
      "source": [
        "#regression output table for interaction term with dummy_rain\n",
        "res_1 = sm.OLS.from_formula('Value_Y ~ Value_T', df_panel_growth_no_outliers).fit()\n",
        "res_2 = sm.OLS.from_formula('Value_Y ~ Value_T + dummy_rain', df_panel_growth_no_outliers).fit()\n",
        "res_3 = sm.OLS.from_formula('Value_Y ~ Value_T*dummy_rain', df_panel_growth_no_outliers).fit()\n",
        "res_4 = sm.OLS.from_formula('Value_Y ~ Value_T*dummy_rain + Value_GDP + Value_Fert + Value_Prec_Anom', df_panel_growth_no_outliers).fit()\n",
        "#check interaction term with Value_Prec_Anom instead of the dummy\n",
        "res_5 = sm.OLS.from_formula('Value_Y ~ Value_T*Value_Prec_Anom + Value_GDP + Value_Fert + Value_Prec_Anom', df_panel_growth_no_outliers).fit()\n",
        "\n",
        "stargazer = Stargazer([res_1, res_2, res_3, res_4,res_5])\n",
        "stargazer"
      ],
      "metadata": {
        "id": "mdJ0fwAm2cJG"
      },
      "execution_count": null,
      "outputs": []
    },
    {
      "cell_type": "markdown",
      "source": [
        "This regression output table suggest that if we move from countries with negative rainfall anomalities to positive ones, the impact of temperature on yield rates becomes 1.445 units less negative. This finding is statistically significant at the 10-% level.Plotting the units instead of the dummy decreases the interaction term, however the direction remains the same, i.e. in countries with more precipiation, the effect of temperature on yield rates is less negative."
      ],
      "metadata": {
        "id": "W0WMw5ZjiFqV"
      }
    },
    {
      "cell_type": "code",
      "source": [
        "#display regression tables including precipitation dummy and fixed effects\n",
        "result_fe = PanelOLS.from_formula(\"Value_Y ~ 1 + Value_T + dummy_rain + Value_T*dummy_rain + Value_GDP + Value_Fert + Value_Prec_Anom + EntityEffects\",\n",
        "                            data=df_panel_growth_no_outliers.set_index([\"Area\", \"Year\"]))\n",
        "result_fe = result_fe.fit(cov_type='clustered', cluster_entity=True)\n",
        "print(result_fe)"
      ],
      "metadata": {
        "id": "kik3clOr21sz"
      },
      "execution_count": null,
      "outputs": []
    },
    {
      "cell_type": "markdown",
      "source": [
        "While the coefficient slightly change, the trend remains the same. In countries with positive precipiation anomalies, the effect of temperature on yield rates is 1.5912 less negative (p<0.05)."
      ],
      "metadata": {
        "id": "eO1XjVRXi26P"
      }
    },
    {
      "cell_type": "markdown",
      "source": [
        "## 2.4 Causality"
      ],
      "metadata": {
        "id": "N228-7FDDVyP"
      }
    },
    {
      "cell_type": "markdown",
      "source": [
        "For our DiD we chose to compare Italy and Greece due to their similar climates, levels of crop yields, and cultures."
      ],
      "metadata": {
        "id": "AUGcv7Mu5D4A"
      }
    },
    {
      "cell_type": "code",
      "source": [
        "#plotting the temperature of Italy and Greece to identify a temperature shock\n",
        "italy_data = df_panel_absolute[df_panel_absolute['Area'] == 'Italy']\n",
        "\n",
        "# Line plot\n",
        "plt.figure(figsize=(10, 6))\n",
        "plt.plot(italy_data['Year'], italy_data['Value_T'], marker='o', linestyle='-', color='b')\n",
        "plt.title('Yearly Temperature Trends in Italy')\n",
        "plt.xlabel('Year')\n",
        "plt.ylabel('Change in Surface Temperature (C°)')\n",
        "plt.grid(True)\n",
        "plt.show()"
      ],
      "metadata": {
        "id": "MNWzPeKq5HIw"
      },
      "execution_count": null,
      "outputs": []
    },
    {
      "cell_type": "code",
      "source": [
        "greece_data = df_panel_absolute[df_panel_absolute['Area'] == 'Greece']\n",
        "\n",
        "# Line plot\n",
        "plt.figure(figsize=(10, 6))\n",
        "plt.plot(greece_data['Year'], greece_data['Value_T'], marker='o', linestyle='-', color='b')\n",
        "plt.title('Yearly Temperature Trends in Greece')\n",
        "plt.xlabel('Year')\n",
        "plt.ylabel('Change in Surface Temperature (C°)')\n",
        "plt.grid(True)\n",
        "plt.show()"
      ],
      "metadata": {
        "id": "kBybOCNG5LY_"
      },
      "execution_count": null,
      "outputs": []
    },
    {
      "cell_type": "markdown",
      "source": [
        " We identified a temperature shock in the year 2003 in Italy which did not affect Greece.\n",
        " We will hence conduct a DiD to identify whether or not this shock in 2003 led to a significant difference between the growth rate of potatos in Italy and Greece."
      ],
      "metadata": {
        "id": "26fogXtm5TW1"
      }
    },
    {
      "cell_type": "code",
      "source": [
        "#running the difference in difference analysis\n",
        "\n",
        "# Select the control group country\n",
        "control_country = 'Greece'\n",
        "# Create the treatment indicator: 1 for Italy, 0 for the control country\n",
        "df_panel_growth['treatment'] = np.where(df_panel_growth['Area'] == 'Italy', 1,\n",
        "                           np.where(df_panel_growth['Area'] == control_country, 0, np.nan))\n",
        "\n",
        "# Drop all other countries from the analysis\n",
        "df_did = df_panel_growth.dropna(subset=['treatment'])\n",
        "df_did['Year'] = pd.to_numeric(df_did['Year'])\n",
        "# Create the time period indicator: 1 for 2003, 0 for before and after 2003\n",
        "df_did['treatment_year'] = np.where(df_did['Year'] == 2003, 1, 0)\n",
        "# Create the interaction term\n",
        "df_did['treatment_effect'] = df_did['treatment'] * df_did['treatment_year']\n",
        "# OLS regression with interaction term\n",
        "did_model = sm.OLS.from_formula('Value_Y ~treatment + treatment_year + treatment_effect', df_did).fit()\n",
        "\n",
        "\n",
        "# Print the summary of the model\n",
        "print(did_model.summary())"
      ],
      "metadata": {
        "id": "CnfGWn0v5Wv3"
      },
      "execution_count": null,
      "outputs": []
    },
    {
      "cell_type": "markdown",
      "source": [
        "The coefficient of the treatment effect is negative (-16.5922) and statistically significant at the p-level 0.05. We can thus reject the H0 that the difference in the average yield rates between Italy and Greece during the shock compared to the other years is zero."
      ],
      "metadata": {
        "id": "EN5XTagE5pet"
      }
    },
    {
      "cell_type": "code",
      "source": [
        "#This is often checked by ensuring that the interaction term between the treatment group and the time period (year) is not significant in the pre-shock period and, in our case, also the post-shocks period since the shock only happens in one year.\n",
        "#This allows to see whether or not  the rate of change over time in the outcome variable is also significantly different between the two groups before and after the shock.\n",
        "\n",
        "# Statistical Check for Parallel Trends\n",
        "# before 2003 (Pre-shock period 1998-2002)\n",
        "df_pre_2003 = df_did[df_did['Year'] < 2003]\n",
        "df_pre_2003 = df_did[df_did['Year'] > 1998]\n",
        "\n",
        "# Adding an interaction term between treatment and year\n",
        "df_pre_2003['treatment_x_year'] = df_pre_2003['treatment'] * df_pre_2003['Year']\n",
        "\n",
        "# Running the regression\n",
        "parallel_trends_model = sm.OLS.from_formula('Value_Y ~ Year + treatment + treatment_x_year', data=df_pre_2003).fit()\n",
        "\n",
        "# Output the summary of the model\n",
        "print(parallel_trends_model.summary())"
      ],
      "metadata": {
        "id": "VpG5LGyC5t-M"
      },
      "execution_count": null,
      "outputs": []
    },
    {
      "cell_type": "markdown",
      "source": [
        "We cannot reject H0 (H0: the rate of change in potato yields is signficianttly different between Italy and Greece) at the p-level 0.05 for the pre-shock period."
      ],
      "metadata": {
        "id": "csRoiHVb5y71"
      }
    },
    {
      "cell_type": "code",
      "source": [
        "# Statistical Check for Parallel Trends\n",
        "# post 2003 (Post-shock period 2004-2008)\n",
        "\n",
        "df_post_2003 = df_did[df_did['Year'] > 2003]\n",
        "df_post_2003 = df_did[df_did['Year'] < 2009]\n",
        "\n",
        "# Adding an interaction term between treatment and year\n",
        "df_post_2003['treatment_x_year'] = df_post_2003['treatment'] * df_post_2003['Year']\n",
        "\n",
        "# Running the regression\n",
        "parallel_trends_model = sm.OLS.from_formula('Value_Y ~ Year + + treatment + treatment_x_year', data=df_post_2003).fit()\n",
        "\n",
        "# Output the summary of the model\n",
        "print(parallel_trends_model.summary())"
      ],
      "metadata": {
        "id": "IcCQAlQ352Df"
      },
      "execution_count": null,
      "outputs": []
    },
    {
      "cell_type": "markdown",
      "source": [
        "We can again not reject H0 (H0: the rate of change in potato yields is signficiantly different between Italy and Greece) at the p-level 0.05 for the post-shock period. The combination of these results provide evidence that the shock in 2003 indeed had a sgnificant impact, or at least there there is not significant evidence to say that it did not have an impact, on yield rates in Italy. The negative coefficient obtained in the DiD thereby suggests a drastic decrease in yield rates associated with the temeprature shock"
      ],
      "metadata": {
        "id": "RTF4GefM54vj"
      }
    },
    {
      "cell_type": "code",
      "source": [
        "#let's visualize this\n",
        "\n",
        "control_country = 'Greece'\n",
        "df_panel_absolute['treatment'] = np.where(df_panel_absolute['Area'] == 'Italy', 1,\n",
        "                           np.where(df_panel_absolute['Area'] == control_country, 0, np.nan))\n",
        "\n",
        "df_did = df_panel_absolute.dropna(subset=['treatment'])\n",
        "df_did['Year'] = pd.to_numeric(df_did['Year'])\n",
        "\n",
        "palette = {0.0: 'blue', 1.0: 'orange'}\n",
        "\n",
        "# Set the palette for both lineplot and legend\n",
        "sns.set_palette(palette.values())\n",
        "\n",
        "\n",
        "sns.lineplot(x='Year', y='Value_Y', hue='treatment', data=df_did, estimator=np.mean, palette=palette)\n",
        "plt.title('DiD')\n",
        "plt.ylabel('Potato Yields')\n",
        "plt.xlabel('Year')\n",
        "plt.axvline(x=2003, color='red', linestyle='--', label='Temperature shock in 2003')\n",
        "\n",
        "# adjust titles in the legend\n",
        "legend_titles = ['Greece (Control)', 'Italy (Treatment)']\n",
        "treatment_values = df_did['treatment'].unique()\n",
        "legend_handles = [plt.Line2D([0], [0], color=palette[label], lw=2) for label in treatment_values]\n",
        "\n",
        "plt.legend(title='Group', loc='upper left', labels=legend_titles, handles=legend_handles)\n",
        "plt.xlim(1998, 2008)\n",
        "plt.show()"
      ],
      "metadata": {
        "id": "AhgPQBZZ6Inc"
      },
      "execution_count": null,
      "outputs": []
    },
    {
      "cell_type": "markdown",
      "source": [
        "## 2.5 Robustness Checks"
      ],
      "metadata": {
        "id": "uTrlk2QAZ1xs"
      }
    },
    {
      "cell_type": "markdown",
      "source": [
        "### 2.5.1 Contintent Analysis"
      ],
      "metadata": {
        "id": "TSYRGMuw0BC5"
      }
    },
    {
      "cell_type": "code",
      "source": [
        "# Linear regression without outliers per continent\n",
        "df_panel_growth_no_outliers_Africa = df_panel_growth_no_outliers.loc[df_panel_growth_no_outliers.Area.isin(Africa),:]\n",
        "df_panel_growth_no_outliers_Europe = df_panel_growth_no_outliers.loc[df_panel_growth_no_outliers.Area.isin(Europe),:]\n",
        "df_panel_growth_no_outliers_Asia = df_panel_growth_no_outliers.loc[df_panel_growth_no_outliers.Area.isin(Asia),:]\n",
        "df_panel_growth_no_outliers_NA = df_panel_growth_no_outliers.loc[df_panel_growth_no_outliers.Area.isin(NA),:]\n",
        "df_panel_growth_no_outliers_SA = df_panel_growth_no_outliers.loc[df_panel_growth_no_outliers.Area.isin(SA),:]\n",
        "df_panel_growth_no_outliers_Oceania = df_panel_growth_no_outliers.loc[df_panel_growth_no_outliers.Area.isin(Oceania),:]\n",
        "\n",
        "sns.scatterplot(x='Value_T', y='Value_Y', hue='Year', data=df_panel_growth_no_outliers)\n",
        "\n",
        "x = df_panel_growth.sort_values(\"Value_T\").Value_T\n",
        "y = df_panel_growth.sort_values(\"Value_T\").Value_Y\n",
        "\n",
        "#Africa\n",
        "ols_canned_results = sm.OLS.from_formula('Value_Y ~ Value_T + Value_GDP + Value_Fert + Value_Prec_Anom', df_panel_growth_no_outliers_Africa).fit()\n",
        "slope = ols_canned_results.params[1]\n",
        "intercept = ols_canned_results.params[0]\n",
        "trendline = slope * x + intercept\n",
        "line = f'Regression line Africa: y={slope:.2f}x+{intercept:.2f} \\np={ols_canned_results.pvalues[1]:.3f}, r² = {ols_canned_results.rsquared:.3f}'\n",
        "plt.plot(x, trendline, '--', color='k', label=line)\n",
        "\n",
        "#Europe\n",
        "ols_canned_results = sm.OLS.from_formula('Value_Y ~ Value_T + Value_GDP + Value_Fert + Value_Prec_Anom', df_panel_growth_no_outliers_Europe).fit()\n",
        "slope = ols_canned_results.params[1]\n",
        "intercept = ols_canned_results.params[0]\n",
        "trendline = slope * x + intercept\n",
        "line = f'Regression line Europe: y={slope:.2f}x+{intercept:.2f} \\np={ols_canned_results.pvalues[1]:.3f}, r² = {ols_canned_results.rsquared:.3f}'\n",
        "plt.plot(x, trendline, '--', color='green', label=line)\n",
        "\n",
        "#Asia\n",
        "ols_canned_results = sm.OLS.from_formula('Value_Y ~ Value_T + Value_GDP + Value_Fert + Value_Prec_Anom', df_panel_growth_no_outliers_Asia).fit()\n",
        "slope = ols_canned_results.params[1]\n",
        "intercept = ols_canned_results.params[0]\n",
        "trendline = slope * x + intercept\n",
        "line = f'Regression line Asia: y={slope:.2f}x+{intercept:.2f} \\np={ols_canned_results.pvalues[1]:.3f}, r² = {ols_canned_results.rsquared:.3f}'\n",
        "plt.plot(x, trendline, '--', color='red', label=line)\n",
        "\n",
        "#NA\n",
        "ols_canned_results = sm.OLS.from_formula('Value_Y ~ Value_T + Value_GDP + Value_Fert + Value_Prec_Anom', df_panel_growth_no_outliers_NA).fit()\n",
        "slope = ols_canned_results.params[1]\n",
        "intercept = ols_canned_results.params[0]\n",
        "trendline = slope * x + intercept\n",
        "line = f'Regression line NA: y={slope:.2f}x+{intercept:.2f} \\np={ols_canned_results.pvalues[1]:.3f}, r² = {ols_canned_results.rsquared:.3f}'\n",
        "plt.plot(x, trendline, '--', color='blue', label=line)\n",
        "\n",
        "#SA\n",
        "ols_canned_results = sm.OLS.from_formula('Value_Y ~ Value_T + Value_GDP + Value_Fert + Value_Prec_Anom', df_panel_growth_no_outliers_SA).fit()\n",
        "slope = ols_canned_results.params[1]\n",
        "intercept = ols_canned_results.params[0]\n",
        "trendline = slope * x + intercept\n",
        "line = f'Regression line SA: y={slope:.2f}x+{intercept:.2f} \\np={ols_canned_results.pvalues[1]:.3f}, r² = {ols_canned_results.rsquared:.3f}'\n",
        "plt.plot(x, trendline, '--', color='orange', label=line)\n",
        "\n",
        "#Oceania\n",
        "ols_canned_results = sm.OLS.from_formula('Value_Y ~ Value_T + Value_GDP + Value_Fert + Value_Prec_Anom', df_panel_growth_no_outliers_Oceania).fit()\n",
        "slope = ols_canned_results.params[1]\n",
        "intercept = ols_canned_results.params[0]\n",
        "trendline = slope * x + intercept\n",
        "line = f'Regression line Oceania: y={slope:.2f}x+{intercept:.2f} \\np={ols_canned_results.pvalues[1]:.3f}, r² = {ols_canned_results.rsquared:.3f}'\n",
        "plt.plot(x, trendline, '--', color='yellow', label=line)\n",
        "\n",
        "plt.xlabel('Change in Surface Temperature [°C]')\n",
        "plt.ylabel('Growth of Potato Yields per Hectare [in %]')\n",
        "plt.title('Change in Surface Temperature and Potato Yields Growth Rates')\n",
        "plt.legend(loc='center left', bbox_to_anchor=(1, 0.5))\n",
        "plt.show()"
      ],
      "metadata": {
        "id": "DK-wFEgH0FdX"
      },
      "execution_count": null,
      "outputs": []
    },
    {
      "cell_type": "markdown",
      "source": [
        "### 2.5.2 With Outliers"
      ],
      "metadata": {
        "id": "7Pki6jpY-EIb"
      }
    },
    {
      "cell_type": "code",
      "source": [
        "# Normal linear regression (with outliers)\n",
        "sns.scatterplot(x='Value_T', y='Value_Y', hue='Year', data=df_panel_growth)\n",
        "\n",
        "x = df_panel_growth.sort_values(\"Value_T\").Value_T\n",
        "y = df_panel_growth.sort_values(\"Value_T\").Value_Y\n",
        "\n",
        "ols_canned_results = sm.OLS.from_formula('Value_Y ~ Value_T + Value_GDP + Value_Fert + Value_Prec_Anom', df_panel_growth).fit()\n",
        "slope = ols_canned_results.params[1]\n",
        "intercept = ols_canned_results.params[0]\n",
        "\n",
        "trendline = slope * x + intercept\n",
        "\n",
        "line = f'Regression line: y={slope:.2f}x+{intercept:.2f} \\np={ols_canned_results.pvalues[1]:.3f}, r² = {ols_canned_results.rsquared:.3f}'\n",
        "\n",
        "plt.plot(x, trendline, '--', color='k', label=line)\n",
        "\n",
        "plt.xlabel('Change in Surface Temperature [°C]')\n",
        "plt.ylabel('Potato Yield [t/ha]')\n",
        "plt.title('Change in Surface Temperature and Potato Yields')\n",
        "plt.legend(loc='center left', bbox_to_anchor=(1, 0.5))\n",
        "plt.show()"
      ],
      "metadata": {
        "id": "LEyDZY-Y-OCu"
      },
      "execution_count": null,
      "outputs": []
    },
    {
      "cell_type": "code",
      "source": [
        "#display regression tables with and without outliers\n",
        "res_1 = sm.OLS.from_formula('Value_Y ~ Value_T + Value_GDP + Value_Fert + Value_Prec_Anom', df_panel_growth_no_outliers).fit()\n",
        "res_2 = sm.OLS.from_formula('Value_Y ~ Value_T + Value_GDP + Value_Fert + Value_Prec_Anom', df_panel_growth).fit()\n",
        "\n",
        "stargazer = Stargazer([res_1, res_2])\n",
        "stargazer"
      ],
      "metadata": {
        "id": "r4mnZ2NI-_r4"
      },
      "execution_count": null,
      "outputs": []
    },
    {
      "cell_type": "code",
      "source": [
        "est_fe_canned = PanelOLS.from_formula(\"Value_Y ~ 1 + Value_T +Value_GDP + Value_Fert + Value_Prec_Anom + EntityEffects\",\n",
        "                            data=df_panel_growth_no_outliers.set_index([\"Area\", \"Year\"]))\n",
        "result_no_outliers = est_fe_canned.fit(cov_type='clustered', cluster_entity=True)\n",
        "est_fe_canned = PanelOLS.from_formula(\"Value_Y ~ 1 + Value_T +Value_GDP + Value_Fert + Value_Prec_Anom + EntityEffects\",\n",
        "                            data=df_panel_growth.set_index([\"Area\", \"Year\"]))\n",
        "result_outliers = est_fe_canned.fit(cov_type='clustered', cluster_entity=True)\n",
        "\n",
        "results_list = [result_no_outliers, result_outliers]\n",
        "results_list"
      ],
      "metadata": {
        "id": "QGCGQsm_QY0F"
      },
      "execution_count": null,
      "outputs": []
    },
    {
      "cell_type": "code",
      "source": [
        "#create temperature threshold for discontinuity regression\n",
        "threshold = 2.0\n",
        "df_panel_growth['dummy_temp'] = df_panel_growth['Value_T'] >= threshold\n",
        "df_panel_growth[\"dummy_temp\"] = df_panel_growth[\"dummy_temp\"].astype(int)"
      ],
      "metadata": {
        "id": "F8Lefho2-YRS"
      },
      "execution_count": null,
      "outputs": []
    },
    {
      "cell_type": "code",
      "source": [
        "#run regression with threshold\n",
        "temperature = df_panel_growth['Value_T']\n",
        "potato_yield = df_panel_growth['Value_Y']\n",
        "\n",
        "# Create a dummy variable (1 if above threshold, 0 if below threshold)\n",
        "df_panel_growth['above_threshold'] = (temperature > threshold).astype(int)\n",
        "\n",
        "# Split the data into two subsets based on the dummy variable\n",
        "df_below_threshold = df_panel_growth[df_panel_growth['above_threshold'] == 0]\n",
        "df_above_threshold = df_panel_growth[df_panel_growth['above_threshold'] == 1]\n",
        "\n",
        "# Fit linear regression models for each subset\n",
        "model_below_threshold = LinearRegression().fit(df_below_threshold['Value_T'].values.reshape(-1, 1), df_below_threshold['Value_Y'])\n",
        "model_above_threshold = LinearRegression().fit(df_above_threshold['Value_T'].values.reshape(-1, 1), df_above_threshold['Value_Y'])\n",
        "\n",
        "# Predict the yields using the fitted models\n",
        "predictions_below_threshold = model_below_threshold.predict(df_below_threshold['Value_T'].values.reshape(-1, 1))\n",
        "predictions_above_threshold = model_above_threshold.predict(df_above_threshold['Value_T'].values.reshape(-1, 1))\n",
        "\n",
        "# Plot the data and regression lines\n",
        "plt.scatter(df_below_threshold['Value_T'], df_below_threshold['Value_Y'], color='blue', label='Below Threshold')\n",
        "plt.scatter(df_above_threshold['Value_T'], df_above_threshold['Value_Y'], color='red', label='Above Threshold')\n",
        "\n",
        "plt.plot(df_below_threshold['Value_T'], predictions_below_threshold, color='blue', label='Regression Line (Below Threshold)')\n",
        "plt.plot(df_above_threshold['Value_T'], predictions_above_threshold, color='red', label='Regression Line (Above Threshold)')\n",
        "\n",
        "plt.axvline(x=threshold, color='black', linestyle='--', label='Treshold Temperature (2.0 C°)')\n",
        "\n",
        "plt.title('Threshold Analysis of Global Surface Temperature and Potato Growth Rates')\n",
        "plt.xlabel('Chance in Surface Temperature (C°)')\n",
        "plt.ylabel('Growth of Potato Yield per Hectare (in %)')\n",
        "plt.legend()\n",
        "plt.show()"
      ],
      "metadata": {
        "id": "69dKkZ-W-kmI"
      },
      "execution_count": null,
      "outputs": []
    },
    {
      "cell_type": "code",
      "source": [
        "#regression output table for interaction term with temperature threshold both with and without outliers\n",
        "res_1 = sm.OLS.from_formula('Value_Y ~ Value_T*dummy_temp + Value_GDP + Value_Fert + Value_Prec_Anom', df_panel_growth_no_outliers).fit()\n",
        "res_2 = sm.OLS.from_formula('Value_Y ~ Value_T*dummy_temp + Value_GDP + Value_Fert + Value_Prec_Anom', df_panel_growth).fit()\n",
        "\n",
        "stargazer = Stargazer([res_1, res_2])\n",
        "stargazer"
      ],
      "metadata": {
        "id": "BnCnUptL-xvK"
      },
      "execution_count": null,
      "outputs": []
    },
    {
      "cell_type": "code",
      "source": [
        "#heterogeneity analysis with outliers\n",
        "threshold = 0\n",
        "df_panel_growth['dummy_rain'] = df_panel_growth['Value_Prec_Anom'] >= threshold\n",
        "df_panel_growth[\"dummy_rain\"] = df_panel_growth[\"dummy_rain\"].astype(int)"
      ],
      "metadata": {
        "id": "Su4Eq9D2_Tm8"
      },
      "execution_count": null,
      "outputs": []
    },
    {
      "cell_type": "code",
      "source": [
        "#display the scatter plot with regression line\n",
        "sns.lmplot(x='Value_T', y='Value_Y', data=df_panel_growth, hue=\"dummy_rain\", height=3.5, aspect=1.7, ci=False)"
      ],
      "metadata": {
        "id": "eVa_c9IO_d67"
      },
      "execution_count": null,
      "outputs": []
    },
    {
      "cell_type": "code",
      "source": [
        "#regression output table for interaction term with dummy_rain\n",
        "res_1 = sm.OLS.from_formula('Value_Y ~ Value_T*dummy_rain + Value_GDP + Value_Fert + Value_Prec_Anom', df_panel_growth_no_outliers).fit()\n",
        "res_2 = sm.OLS.from_formula('Value_Y ~ Value_T*dummy_rain + Value_GDP + Value_Fert + Value_Prec_Anom', df_panel_growth).fit()\n",
        "\n",
        "stargazer = Stargazer([res_1, res_2])\n",
        "stargazer"
      ],
      "metadata": {
        "id": "DnOwia7g_nnG"
      },
      "execution_count": null,
      "outputs": []
    },
    {
      "cell_type": "markdown",
      "source": [
        "## 2.6 Cross-Section (for visualization only)"
      ],
      "metadata": {
        "id": "ZPL4MJlE7c6G"
      }
    },
    {
      "cell_type": "code",
      "source": [
        "# Linear, cross-section regression without outliers (no controls)\n",
        "\n",
        "for continent_list, continent_name in [(Africa, 'Africa'), (Europe, 'Europe'), (NA, 'North America'), (SA, 'South America'), (Asia, 'Asia'), (Oceania, 'Oceania')]:\n",
        "    df_cross.loc[df_cross['Area'].isin(continent_list), 'continent'] = continent_name\n",
        "\n",
        "continent_colors = {\n",
        "    \"Africa\": \"grey\",\n",
        "    \"Europe\": \"green\",\n",
        "    \"Asia\": \"red\",\n",
        "    \"North America\": \"purple\",\n",
        "    \"South America\": \"orange\",\n",
        "    \"Oceania\": \"blue\",\n",
        "}\n",
        "\n",
        "# Scatter plots\n",
        "for continent, color in continent_colors.items():\n",
        "    subset = df_cross[df_cross[\"continent\"] == continent]\n",
        "    sns.scatterplot(x=subset[\"Value_T\"], y=subset[\"Value_Y\"], label=continent, color=color)\n",
        "\n",
        "# Linear regression\n",
        "x = df_cross.sort_values(\"Value_T\").Value_T\n",
        "y = df_cross.sort_values(\"Value_T\").Value_Y\n",
        "\n",
        "ols_canned_results = sm.OLS.from_formula('Value_Y ~ Value_T', df_cross).fit()\n",
        "slope = ols_canned_results.params[1]\n",
        "intercept = ols_canned_results.params[0]\n",
        "\n",
        "trendline = slope * x + intercept\n",
        "\n",
        "# Plot regression line without label\n",
        "plt.plot(x, trendline, '--', color='k', label='_nolegend_')\n",
        "\n",
        "# Set labels and title\n",
        "plt.xlabel('Change in Surface Temperature [°C]')\n",
        "plt.ylabel('Yield Rates [%]')\n",
        "plt.title('Change in Surface Temperature and Potato Yields (2018-2020 vs. Baseline)')\n",
        "\n",
        "# Create legend for scatter plots only\n",
        "plt.legend(loc='upper left', bbox_to_anchor=(1, 0.75))\n",
        "\n",
        "# Show the plot\n",
        "plt.show()"
      ],
      "metadata": {
        "id": "WE9qYWAcRTY5"
      },
      "execution_count": null,
      "outputs": []
    },
    {
      "cell_type": "code",
      "source": [
        "# creating a temperature threshold for the discontinuity regression analysis\n",
        "threshold = 2\n",
        "df_cross['dummy_temp'] = df_cross['Value_T'] >= threshold\n",
        "df_cross[\"dummy_temp\"] = df_cross[\"dummy_temp\"].astype(int)"
      ],
      "metadata": {
        "id": "qR2a6-ysb7Wb"
      },
      "execution_count": null,
      "outputs": []
    },
    {
      "cell_type": "code",
      "source": [
        "#display scatter\n",
        "sns.scatterplot(x='Value_T', y='Value_Y', data=df_cross, hue=\"dummy_temp\")"
      ],
      "metadata": {
        "id": "LVRHSLiTcBXj"
      },
      "execution_count": null,
      "outputs": []
    },
    {
      "cell_type": "code",
      "source": [
        "#dispaly simple regression\n",
        "sns.lmplot(x='Value_T', y='Value_Y', data=df_cross, hue=\"dummy_temp\", height=3.5, aspect=1.7, ci=False)"
      ],
      "metadata": {
        "id": "7r49ixJjcJ_L"
      },
      "execution_count": null,
      "outputs": []
    },
    {
      "cell_type": "code",
      "source": [
        "#run linear regression with threshold\n",
        "temperature = df_cross['Value_T']\n",
        "potato_yield = df_cross['Value_Y']\n",
        "\n",
        "# Create a dummy variable (1 if above threshold, 0 if below threshold)\n",
        "df_cross['above_threshold'] = (temperature > threshold).astype(int)\n",
        "\n",
        "# Split the data into two subsets based on the dummy variable\n",
        "df_below_threshold = df_cross[df_cross['above_threshold'] == 0]\n",
        "df_above_threshold = df_cross[df_cross['above_median'] == 1]\n",
        "\n",
        "# Fit linear regression models for each subset\n",
        "model_below_threshold = LinearRegression().fit(df_below_threshold['Value_T'].values.reshape(-1, 1), df_below_threshold['Value_Y'])\n",
        "model_above_threshold = LinearRegression().fit(df_above_threshold['Value_T'].values.reshape(-1, 1), df_above_threshold['Value_Y'])\n",
        "\n",
        "# Predict the yields using the fitted models\n",
        "predictions_below_threshold = model_below_threshold.predict(df_below_threshold['Value_T'].values.reshape(-1, 1))\n",
        "predictions_above_threshold = model_above_threshold.predict(df_above_threshold['Value_T'].values.reshape(-1, 1))\n",
        "\n",
        "# Plot the data and regression lines\n",
        "plt.scatter(df_below_threshold['Value_T'], df_below_threshold['Value_Y'], color='blue', label='Below Median')\n",
        "plt.scatter(df_above_threshold['Value_T'], df_above_threshold['Value_Y'], color='red', label='Above Median')\n",
        "\n",
        "plt.plot(df_below_threshold['Value_T'], predictions_below_threshold, color='blue', label='Regression Line (Below Threshold)')\n",
        "plt.plot(df_above_threshold['Value_T'], predictions_above_threshold, color='red', label='Regression Line (Above Threshold)')\n",
        "\n",
        "plt.axvline(x=threshold, color='black', linestyle='--', label='Temperature Threshold 2.0 C°')\n",
        "\n",
        "plt.legend(loc='upper right', bbox_to_anchor=(1.65, 0.9))\n",
        "plt.title('Threshold Analysis of Global Surface Temperature and Potato Growth Rates')\n",
        "plt.xlabel('Chance in Surface Temperature (C°)')\n",
        "plt.ylabel('Growth of Potato Yield per Hectare (in %)')\n",
        "plt.show()"
      ],
      "metadata": {
        "id": "EsA1Xwe1cN62"
      },
      "execution_count": null,
      "outputs": []
    },
    {
      "cell_type": "code",
      "source": [
        "#heterogeneity in cross-section\n",
        "threshold = 0\n",
        "df_cross['dummy_rain'] = df_cross['Value_Prec_Anom'] >= threshold\n",
        "df_cross[\"dummy_rain\"] = df_cross[\"dummy_rain\"].astype(int)\n",
        "df_cross.head()"
      ],
      "metadata": {
        "id": "fKAkz2oV39as"
      },
      "execution_count": null,
      "outputs": []
    },
    {
      "cell_type": "code",
      "source": [
        "color_palette = {0: 'orange', 1: 'blue'}\n",
        "\n",
        "# Use the palette parameter in lmplot\n",
        "scatter_plot = sns.lmplot(x='Value_T', y='Value_Y', data=df_cross, hue=\"dummy_rain\",\n",
        "                          palette=color_palette, height=3.5, aspect=1.7, ci=False)\n",
        "\n",
        "# Customize labels and title\n",
        "scatter_plot.set_axis_labels('Change in Surface Temperature [°C]', 'Growth of Potato Yields per Hectare [%]')\n",
        "plt.title('Heterogeneity Analysis: Interaction between Temperature and Precipitation')\n",
        "\n",
        "# Customize legend\n",
        "scatter_plot._legend.set_title('Rain Anomalies')  # Set the legend title\n",
        "new_labels = ['Negative Anomaly', 'Positive Anomaly']  # Replace with your actual labels\n",
        "for t, l in zip(scatter_plot._legend.texts, new_labels): t.set_text(l)\n",
        "\n",
        "# Show the plot\n",
        "plt.show()"
      ],
      "metadata": {
        "id": "DwzrVH6Q450f"
      },
      "execution_count": null,
      "outputs": []
    },
    {
      "cell_type": "markdown",
      "source": [
        "# Appendix 3: Quadratic Regression (Extra)\n",
        "\n"
      ],
      "metadata": {
        "id": "HxyBbKi74G7u"
      }
    },
    {
      "cell_type": "code",
      "source": [
        "# Normal quadratic regression\n",
        "sns.scatterplot(x='Value_T', y='Value_Y', hue=\"Year\", data=df_panel_growth_no_outliers, color=\"C0\")\n",
        "\n",
        "df_panel_growth_no_outliers['Value_T_2'] = df_panel_growth_no_outliers['Value_T'] * df_panel_growth_no_outliers['Value_T']\n",
        "\n",
        "model_growth_controls = sm.OLS.from_formula('Value_Y ~ Value_T + Value_T_2 + Value_GDP + Value_Fert + Value_Prec_Anom', df_panel_growth_no_outliers).fit()\n",
        "\n",
        "x_vals = np.linspace(df_panel_growth_no_outliers['Value_T'].min(), df_panel_growth_no_outliers['Value_T'].max(), 10000)\n",
        "x_vals_2 = x_vals * x_vals\n",
        "y_vals = model_growth_controls.params[0] + model_growth_controls.params[1] * x_vals + model_growth_controls.params[2] * x_vals_2\n",
        "\n",
        "line = f'Quadratic Regression Line: y={model_growth_controls.params[2]:.2f}x²+{model_growth_controls.params[1]:.2f}x + {model_growth_controls.params[0]:.2f} \\np={model_growth_controls.pvalues[1]:.2f}, r² = {model_growth_controls.rsquared:.3f}'\n",
        "\n",
        "plt.plot(x_vals, y_vals, color=\"C1\", label=line)\n",
        "plt.xlabel('Change in Surface Temperature [°C]')\n",
        "plt.ylabel('Potato Yield [t/ha]')\n",
        "plt.title('Change in Surface Temperature and Potato Yields')\n",
        "plt.legend(loc='center left', bbox_to_anchor=(1, 0.5))\n",
        "plt.show()\n",
        "\n",
        "print(model_growth_controls.summary())"
      ],
      "metadata": {
        "id": "bzxV4KDT9oq0"
      },
      "execution_count": null,
      "outputs": []
    },
    {
      "cell_type": "code",
      "source": [
        "# Quad, cross-section regression without outliers (no controls)\n",
        "for continent_list, continent_name in [(Africa, 'Africa'), (Europe, 'Europe'), (NA, 'North America'), (SA, 'South America'), (Asia, 'Asia'), (Oceania, 'Oceania')]:\n",
        "    df_cross.loc[df_cross['Area'].isin(continent_list), 'continent'] = continent_name\n",
        "\n",
        "continent_colors = {\n",
        "    \"Africa\": \"grey\",\n",
        "    \"Europe\": \"green\",\n",
        "    \"Asia\": \"red\",\n",
        "    \"North America\": \"purple\",\n",
        "    \"South America\": \"orange\",\n",
        "    \"Oceania\": \"blue\",\n",
        "}\n",
        "\n",
        "for continent, color in continent_colors.items():\n",
        "    subset = df_cross[df_cross[\"continent\"] == continent]\n",
        "    sns.scatterplot(x=subset[\"Value_T\"], y=subset[\"Value_Y\"], label=continent, color=color)\n",
        "\n",
        "df_cross['Value_T_2'] = df_cross['Value_T'] * df_cross['Value_T']\n",
        "\n",
        "model_cross_section = sm.OLS.from_formula('Value_Y ~ Value_T + Value_T_2', df_cross).fit()\n",
        "\n",
        "x_vals = np.linspace(df_cross['Value_T'].min(), df_cross['Value_T'].max(), 10000)\n",
        "x_vals_2 = x_vals * x_vals\n",
        "y_vals = model_cross_section.params[0] + model_cross_section.params[1] * x_vals + model_cross_section.params[2] * x_vals_2\n",
        "\n",
        "line = f'Quadratic Regression Line: y={model_cross_section.params[2]:.2f}x²+{model_cross_section.params[1]:.2f}x + {model_cross_section.params[0]:.2f} \\np={model_cross_section.pvalues[1]:.2f}, r² = {model_cross_section.rsquared:.2f}'\n",
        "\n",
        "plt.plot(x_vals, y_vals, '--', color=\"k\", label=line)\n",
        "plt.xlabel('Change in Surface Temperature [°C]')\n",
        "plt.ylabel('Potato Yield [t/ha]')\n",
        "plt.title('Change in Surface Temperature and Potato Yields')\n",
        "plt.legend(loc='center left', bbox_to_anchor=(1, 0.5))\n",
        "plt.show()\n",
        "\n",
        "print(model_cross_section.summary())"
      ],
      "metadata": {
        "id": "vjEOmngStETR"
      },
      "execution_count": null,
      "outputs": []
    }
  ]
}